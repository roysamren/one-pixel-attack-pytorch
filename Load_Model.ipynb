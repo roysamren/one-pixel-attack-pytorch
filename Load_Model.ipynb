{
 "cells": [
  {
   "cell_type": "code",
   "execution_count": 1,
   "id": "095bd9c9",
   "metadata": {},
   "outputs": [],
   "source": [
    "import torch\n",
    "import torch.nn as nn\n",
    "import numpy as np\n",
    "import sys\n",
    "import os\n",
    "import random\n",
    "import matplotlib.pyplot as plt"
   ]
  },
  {
   "cell_type": "code",
   "execution_count": 2,
   "id": "0e0ce6b1",
   "metadata": {},
   "outputs": [
    {
     "name": "stdout",
     "output_type": "stream",
     "text": [
      "Using device: cuda\n"
     ]
    }
   ],
   "source": [
    "# check if GPU is available and set the device\n",
    "device = torch.device('cuda' if torch.cuda.is_available() else 'cpu')\n",
    "print('Using device:', device)"
   ]
  },
  {
   "cell_type": "markdown",
   "id": "6bc5cd0e",
   "metadata": {},
   "source": [
    "### Model + Helper Functions"
   ]
  },
  {
   "cell_type": "code",
   "execution_count": 5,
   "id": "3cdd9afa",
   "metadata": {},
   "outputs": [
    {
     "name": "stdout",
     "output_type": "stream",
     "text": [
      "Current working directory set to: /projects/bcnx/sroy6/One_pixel/one-pixel-attack-pytorch/src\n"
     ]
    }
   ],
   "source": [
    "os.chdir(\"src\")\n",
    "print(\"Current working directory set to:\", os.getcwd())"
   ]
  },
  {
   "cell_type": "code",
   "execution_count": 6,
   "id": "bbb894a3",
   "metadata": {},
   "outputs": [],
   "source": [
    "# Please put the src directory in the path\n",
    "src_path = os.path.abspath(os.path.join(os.getcwd(), 'src'))\n",
    "if src_path not in sys.path:\n",
    "    sys.path.append(src_path)\n",
    "\n",
    "from utils import MIMONetDataset, ChannelScaler\n",
    "from mimonet import MIMONet"
   ]
  },
  {
   "cell_type": "code",
   "execution_count": 7,
   "id": "5fd4ca0d",
   "metadata": {},
   "outputs": [],
   "source": [
    "# set working directory\n",
    "working_dir = \"/projects/bcnx/kazumak2/MIMONet/HeatExchanger\"\n",
    "data_dir = os.path.join(working_dir, \"data\")"
   ]
  },
  {
   "cell_type": "markdown",
   "id": "2c88060c",
   "metadata": {},
   "source": [
    "### Load datasets"
   ]
  },
  {
   "cell_type": "code",
   "execution_count": 8,
   "id": "70a663fc",
   "metadata": {},
   "outputs": [],
   "source": [
    "# trunk dataset\n",
    "trunk_input = np.load(os.path.join(data_dir, \"share/trunk.npz\"))['trunk']\n",
    "\n",
    "# min-max scaling [-1, 1]\n",
    "trunk_input[:, 0] = 2 * (trunk_input[:, 0] - np.min(trunk_input[:, 0])) / (np.max(trunk_input[:, 0]) - np.min(trunk_input[:, 0])) - 1\n",
    "trunk_input[:, 1] = 2 * (trunk_input[:, 1] - np.min(trunk_input[:, 1])) / (np.max(trunk_input[:, 1]) - np.min(trunk_input[:, 1])) - 1"
   ]
  },
  {
   "cell_type": "code",
   "execution_count": 9,
   "id": "9f697cc9",
   "metadata": {},
   "outputs": [
    {
     "name": "stdout",
     "output_type": "stream",
     "text": [
      "Branch1 shape: (1546, 2)\n",
      "Branch2 shape: (1546, 100)\n"
     ]
    }
   ],
   "source": [
    "# branch input dataset\n",
    "branch = np.load(os.path.join(data_dir, \"branch.npz\"))\n",
    "\n",
    "branch1 = branch['branch1']\n",
    "branch2 = branch['branch2']\n",
    "\n",
    "print(\"Branch1 shape:\", branch1.shape)\n",
    "print(\"Branch2 shape:\", branch2.shape)\n",
    "\n",
    "# split the dataset into training and testing sets\n",
    "train_size = int(0.8 * len(branch1))\n",
    "test_size = len(branch1) - train_size\n",
    "train_branch1, test_branch1 = branch1[:train_size], branch1[train_size:]\n",
    "train_branch2, test_branch2 = branch2[:train_size], branch2[train_size:]"
   ]
  },
  {
   "cell_type": "code",
   "execution_count": 10,
   "id": "572ff092",
   "metadata": {},
   "outputs": [
    {
     "name": "stdout",
     "output_type": "stream",
     "text": [
      "Selected output channels:\n",
      "pressure\n",
      "z-velocity\n",
      "y-velocity\n",
      "x-velocity\n",
      "velocity-magnitude\n"
     ]
    }
   ],
   "source": [
    "# create a dictionary for the output channel names\n",
    "# 0: turb-kinetic-energy\n",
    "# 1: pressure\n",
    "# 2: temperature\n",
    "# 3: z-velocity\n",
    "# 4: y-velocity\n",
    "# 5: x-velocity\n",
    "# 6: velocity-magnitude\n",
    "\n",
    "dict_channel = {\n",
    "    0: 'turb-kinetic-energy',\n",
    "    1: 'pressure',\n",
    "    2: 'temperature',\n",
    "    3: 'z-velocity',\n",
    "    4: 'y-velocity',\n",
    "    5: 'x-velocity',\n",
    "    6: 'velocity-magnitude'\n",
    "}\n",
    "\n",
    "# select the output channel\n",
    "target_channel = [1, 3, 4, 5, 6]\n",
    "\n",
    "# print the selected output channel names\n",
    "# target_label is used to store the names of the selected output channels for further processing (e.g., plotting)\n",
    "print(\"Selected output channels:\")\n",
    "target_label = []\n",
    "for channel in target_channel:\n",
    "    print(dict_channel[channel])\n",
    "    target_label.append(dict_channel[channel])    "
   ]
  },
  {
   "cell_type": "code",
   "execution_count": 11,
   "id": "968677df",
   "metadata": {},
   "outputs": [
    {
     "name": "stdout",
     "output_type": "stream",
     "text": [
      "Target dataset shape before split: (1546, 3977, 5)\n",
      "Train target shape: (1236, 3977, 5)\n",
      "Test target shape: (310, 3977, 5)\n"
     ]
    }
   ],
   "source": [
    "# target dataset\n",
    "target = np.load(os.path.join(data_dir, \"target.npy\"))\n",
    "\n",
    "# extract the output channels\n",
    "target = target[:, :, target_channel ]  # select the first 7 channels\n",
    "print(\"Target dataset shape before split:\", target.shape)\n",
    "\n",
    "\n",
    "# split the target dataset into training and testing sets\n",
    "train_target = target[:train_size]\n",
    "test_target = target[train_size:]\n",
    "\n",
    "print(\"Train target shape:\", train_target.shape)\n",
    "print(\"Test target shape:\", test_target.shape)"
   ]
  },
  {
   "cell_type": "code",
   "execution_count": 12,
   "id": "4a13dd2a",
   "metadata": {},
   "outputs": [
    {
     "name": "stdout",
     "output_type": "stream",
     "text": [
      "Mean of branch1: [  4.51454429 292.42944177]\n",
      "Std of branch1: [ 0.2615285  17.03323994]\n",
      "Mean of branch2: 12587.66968713018\n",
      "Std of branch2: 6302.709013835411\n"
     ]
    }
   ],
   "source": [
    "# get the mean and standard deviation of each channel\n",
    "mean_branch1 = np.mean(train_branch1, axis=0)\n",
    "std_branch1 = np.std(train_branch1, axis=0)\n",
    "\n",
    "print(\"Mean of branch1:\", mean_branch1)\n",
    "print(\"Std of branch1:\", std_branch1)\n",
    "\n",
    "# (# train samples, 100)\n",
    "mean_branch2 = np.mean(train_branch2)\n",
    "std_branch2 = np.std(train_branch2)\n",
    "\n",
    "print(\"Mean of branch2:\", mean_branch2)\n",
    "print(\"Std of branch2:\", std_branch2)"
   ]
  },
  {
   "cell_type": "code",
   "execution_count": 13,
   "id": "4f8b0243",
   "metadata": {},
   "outputs": [
    {
     "name": "stdout",
     "output_type": "stream",
     "text": [
      "Shape of normalized train_branch1: (1236, 2)\n",
      "Shape of normalized test_branch1: (310, 2)\n",
      "Shape of normalized train_branch2: (1236, 100)\n",
      "Shape of normalized test_branch2: (310, 100)\n"
     ]
    }
   ],
   "source": [
    "# normalize the branch data using the mean and std\n",
    "train_branch_1 = (train_branch1 - mean_branch1) / std_branch1\n",
    "test_branch_1 = (test_branch1 - mean_branch1) / std_branch1\n",
    "train_branch_2 = (train_branch2 - mean_branch2) / std_branch2\n",
    "test_branch_2 = (test_branch2 - mean_branch2) / std_branch2\n",
    "\n",
    "# print the shapes of the normalized data\n",
    "print(\"Shape of normalized train_branch1:\", train_branch_1.shape)\n",
    "print(\"Shape of normalized test_branch1:\", test_branch_1.shape)\n",
    "print(\"Shape of normalized train_branch2:\", train_branch_2.shape)\n",
    "print(\"Shape of normalized test_branch2:\", test_branch_2.shape)"
   ]
  },
  {
   "cell_type": "markdown",
   "id": "c339c659",
   "metadata": {},
   "source": [
    "### Scaling the target data"
   ]
  },
  {
   "cell_type": "code",
   "execution_count": 14,
   "id": "2008bca5",
   "metadata": {},
   "outputs": [
    {
     "name": "stdout",
     "output_type": "stream",
     "text": [
      "Shape of scaled train_target: (1236, 3977, 5)\n",
      "Shape of scaled test_target: (310, 3977, 5)\n"
     ]
    }
   ],
   "source": [
    "import numpy as np\n",
    "# scaling the target data\n",
    "'''  \n",
    "note: reverse the scaling for the target data\n",
    "train_target = scaler.inverse_transform(train_target_scaled)\n",
    "test_target = scaler.inverse_transform(test_target_scaled)\n",
    "'''\n",
    "scaler = ChannelScaler(method='minmax', feature_range=(-1, 1))\n",
    "scaler.fit(train_target)\n",
    "train_target_scaled = scaler.transform(train_target)\n",
    "test_target_scaled = scaler.transform(test_target)\n",
    "\n",
    "print(\"Shape of scaled train_target:\", train_target_scaled.shape)\n",
    "print(\"Shape of scaled test_target:\", test_target_scaled.shape)"
   ]
  },
  {
   "cell_type": "code",
   "execution_count": 15,
   "id": "8fd2bcf4",
   "metadata": {},
   "outputs": [],
   "source": [
    "# test dataset and dataloader\n",
    "test_dataset = MIMONetDataset(\n",
    "    [test_branch_1, test_branch_2],  # branch_data_list\n",
    "    trunk_input,                     # trunk_data\n",
    "    test_target_scaled               # target_data\n",
    ")\n",
    "\n",
    "test_loader = torch.utils.data.DataLoader(\n",
    "    test_dataset,\n",
    "    batch_size=1,  # set to 1 for testing\n",
    "    shuffle=False,\n",
    "    num_workers=0\n",
    ")"
   ]
  },
  {
   "cell_type": "markdown",
   "id": "6e1e443f",
   "metadata": {},
   "source": [
    "## Model Instance & Load Parameters"
   ]
  },
  {
   "cell_type": "code",
   "execution_count": 16,
   "id": "1460982d",
   "metadata": {},
   "outputs": [],
   "source": [
    "# Architecture parameters\n",
    "dim = 256\n",
    "branch_input_dim1 = 2\n",
    "branch_input_dim2 = 100\n",
    "trunk_input_dim = 2\n",
    "\n",
    "# Define the model arguments for orig_MIMONet\n",
    "model_args = {\n",
    "    'branch_arch_list': [\n",
    "        [branch_input_dim1, 512, 512, 512, dim],\n",
    "        [branch_input_dim2, 512, 512, 512, dim]\n",
    "    ],\n",
    "    'trunk_arch': [trunk_input_dim, 256, 256, 256, dim],\n",
    "    'num_outputs': target.shape[-1] -1,  # number of output channels\n",
    "    'activation_fn': nn.ReLU,\n",
    "    'merge_type': 'mul',\n",
    "}"
   ]
  },
  {
   "cell_type": "markdown",
   "id": "448bdfa2",
   "metadata": {},
   "source": [
    "### Load"
   ]
  },
  {
   "cell_type": "code",
   "execution_count": 17,
   "id": "5c73b408",
   "metadata": {},
   "outputs": [
    {
     "name": "stdout",
     "output_type": "stream",
     "text": [
      "Model loaded successfully from /projects/bcnx/kazumak2/MIMONet/HeatExchanger/checkpoints/custom_best_model_lambda_1E-4.pt\n",
      "Number of trainable parameters in the model: 1762052\n"
     ]
    },
    {
     "name": "stderr",
     "output_type": "stream",
     "text": [
      "/tmp/ipykernel_481888/821581263.py:6: FutureWarning: You are using `torch.load` with `weights_only=False` (the current default value), which uses the default pickle module implicitly. It is possible to construct malicious pickle data which will execute arbitrary code during unpickling (See https://github.com/pytorch/pytorch/blob/main/SECURITY.md#untrusted-models for more details). In a future release, the default value for `weights_only` will be flipped to `True`. This limits the functions that could be executed during unpickling. Arbitrary objects will no longer be allowed to be loaded via this mode unless they are explicitly allowlisted by the user via `torch.serialization.add_safe_globals`. We recommend you start setting `weights_only=True` for any use case where you don't have full control of the loaded file. Please open an issue on GitHub for any issues related to this experimental feature.\n",
      "  model.load_state_dict(torch.load(model_path, map_location=device))\n"
     ]
    }
   ],
   "source": [
    "model = MIMONet(**model_args).to(device)\n",
    "# Load the trained model\n",
    "model_path = os.path.join(working_dir, \"checkpoints/custom_best_model_lambda_1E-4.pt\")\n",
    "\n",
    "if os.path.exists(model_path):\n",
    "    model.load_state_dict(torch.load(model_path, map_location=device))\n",
    "    print(\"Model loaded successfully from\", model_path)\n",
    "else:\n",
    "    print(\"Model file not found at\", model_path)\n",
    "    sys.exit(1)\n",
    "    \n",
    "# Evaluate the model on the test set\n",
    "model.eval()\n",
    "\n",
    "# print the number of parameters in the model\n",
    "num_params = sum(p.numel() for p in model.parameters() if p.requires_grad)\n",
    "print(f\"Number of trainable parameters in the model: {num_params}\")"
   ]
  },
  {
   "cell_type": "markdown",
   "id": "088ef0dc",
   "metadata": {},
   "source": [
    "## How to predict?"
   ]
  },
  {
   "cell_type": "code",
   "execution_count": 18,
   "id": "fba8200d",
   "metadata": {},
   "outputs": [],
   "source": [
    "# feed the test loader to the model (and save predictions and targets)\n",
    "predictions = []\n",
    "targets = []\n",
    "with torch.no_grad():\n",
    "    for batch in test_loader:\n",
    "        branch_data, trunk_data, target_data = batch\n",
    "        branch_data = [b.to(device) for b in branch_data]\n",
    "        trunk_data = trunk_data.to(device)\n",
    "        target_data = target_data.to(device)\n",
    "\n",
    "        output = model(branch_data, trunk_data)\n",
    "        predictions.append(output.cpu().numpy())\n",
    "        targets.append(target_data.cpu().numpy())\n",
    "        \n",
    "# Convert predictions and targets to numpy arrays\n",
    "predictions = np.concatenate(predictions, axis=0)\n",
    "targets = np.concatenate(targets, axis=0)\n",
    "\n",
    "# Reverse the scaling for the target data\n",
    "predictions = scaler.inverse_transform(predictions)\n",
    "targets = scaler.inverse_transform(targets)"
   ]
  },
  {
   "cell_type": "markdown",
   "id": "2ecf6df2",
   "metadata": {},
   "source": [
    "(Evaluate)"
   ]
  },
  {
   "cell_type": "code",
   "execution_count": 19,
   "id": "a2ffb990",
   "metadata": {},
   "outputs": [
    {
     "name": "stdout",
     "output_type": "stream",
     "text": [
      "L2 norm of predictions shape: (310, 4)\n",
      "L2 norm of targets shape: (310, 4)\n",
      "Mean relative L2 error per channel: [0.7996377  1.4521601  1.0151619  0.51779175] %\n",
      "Standard deviation of relative L2 error per channel: [0.00014584 0.0002911  0.0002742  0.00038389]\n"
     ]
    }
   ],
   "source": [
    "# Compute L2 norm over grid points for each sample and channel\n",
    "l2_pred = np.linalg.norm(predictions, axis=1)  # shape: (samples, channels)\n",
    "l2_gt = np.linalg.norm(targets[..., :4], axis=1)  # shape: (samples, channels)\n",
    "\n",
    "print(\"L2 norm of predictions shape:\", l2_pred.shape)\n",
    "print(\"L2 norm of targets shape:\", l2_gt.shape)\n",
    "\n",
    "\n",
    "# Compute L2 error over grid points for each sample and channel\n",
    "l2_err = np.linalg.norm(predictions - targets[..., :4], axis=1)  # shape: (samples, channels)\n",
    "\n",
    "# Compute relative error (avoid division by zero)\n",
    "rel_err = l2_err / (l2_gt + 1e-8)  # shape: (samples, channels)\n",
    "\n",
    "# Mean over samples for each channel\n",
    "mean_rel_err_per_channel = np.mean(rel_err, axis=0)  # shape: (channels,)\n",
    "\n",
    "print(\"Mean relative L2 error per channel:\", mean_rel_err_per_channel * 100, \"%\")\n",
    "\n",
    "# standard deviation of relative error per channel\n",
    "std_rel_err_per_channel = np.std(rel_err, axis=0)  # shape: (channels,)\n",
    "\n",
    "print(\"Standard deviation of relative L2 error per channel:\", std_rel_err_per_channel)"
   ]
  },
  {
   "cell_type": "code",
   "execution_count": null,
   "id": "fa50f9d7",
   "metadata": {},
   "outputs": [],
   "source": [
    "import os\n",
    "import sys\n",
    "import numpy as np\n",
    "\n",
    "import argparse\n",
    "\n",
    "import torch\n",
    "import torch.nn as nn\n",
    "import torch.optim as optim\n",
    "import torch.nn.functional as F\n",
    "import torch.backends.cudnn as cudnn\n",
    "\n",
    "import torchvision\n",
    "import torchvision.transforms as transforms\n",
    "from models import *\n",
    "from utils import progress_bar\n",
    "from torch.autograd import Variable\n"
   ]
  },
  {
   "cell_type": "code",
   "execution_count": 20,
   "id": "11603cbe",
   "metadata": {},
   "outputs": [],
   "source": [
    "import argparse\n",
    "import numpy as np\n",
    "import torch\n",
    "import torch.nn.functional as F\n",
    "from torch.utils.data import DataLoader, Dataset\n",
    "\n",
    "# Local file copied from the original repo – keep the path if needed.\n",
    "from differential_evolution import differential_evolution  # noqa: E402\n",
    "\n",
    "\n",
    "def parse_args():\n",
    "    p = argparse.ArgumentParser(\"K‑Feature Differential Evolution Attack (Regression)\")\n",
    "    p.add_argument(\"--model-path\", required=True, help=\"Path to saved PyTorch model (state_dict or full model).\")\n",
    "    p.add_argument(\"--features\", type=int, default=1, help=\"How many input indices may be perturbed.\")\n",
    "    p.add_argument(\"--val-min\", type=float, default=-1.0, help=\"Minimum allowed value for a perturbed component.\")\n",
    "    p.add_argument(\"--val-max\", type=float, default=1.0, help=\"Maximum allowed value for a perturbed component.\")\n",
    "    p.add_argument(\"--maxiter\", type=int, default=100, help=\"Maximum DE iterations.\")\n",
    "    p.add_argument(\"--popsize\", type=int, default=400, help=\"Population‑size multiplier in DE (actual pop = popsize * n_params).\")\n",
    "    p.add_argument(\"--samples\", type=int, default=100, help=\"How many (x, y) pairs from the dataset to attack.\")\n",
    "    p.add_argument(\"--error-thr\", type=float, default=0.30, help=\"Relative‑error threshold to declare success.\")\n",
    "    p.add_argument(\"--batch-size\", type=int, default=1, help=\"Batch size for the data loader (set 1 for simplicity).\")\n",
    "    p.add_argument(\"--seed\", type=int, default=0, help=\"Random seed for reproducibility.\")\n",
    "    p.add_argument(\"--device\", default=\"cuda\" if torch.cuda.is_available() else \"cpu\", help=\"Device to run on.\")\n",
    "    p.add_argument(\"--verbose\", action=\"store_true\", help=\"Print verbose logs from DE.\")\n",
    "    return p.parse_args()\n",
    "\n",
    "\n",
    "# ──────────────────────────────────────────────────────────────────────────────\n",
    "# Utilities\n",
    "# ──────────────────────────────────────────────────────────────────────────────\n",
    "\n",
    "def perturb_vector(xs: np.ndarray, base_vec: torch.Tensor) -> torch.Tensor:\n",
    "    \"\"\"Apply a batch of perturbations *xs* to *base_vec*.\n",
    "\n",
    "    Parameters\n",
    "    ----------\n",
    "    xs : ndarray, shape (n_pop, 2*k) or (2*k,)\n",
    "        Genome(s) produced by DE: (idx₀, val₀, …).\n",
    "    base_vec : Tensor, shape (input_dim,)\n",
    "        Unperturbed input.\n",
    "\n",
    "    Returns\n",
    "    -------\n",
    "    Tensor, shape (n_pop, input_dim)\n",
    "        Batch of perturbed inputs ready for the model.\n",
    "    \"\"\"\n",
    "    if xs.ndim == 1:\n",
    "        xs = np.expand_dims(xs, 0)\n",
    "    n_pop, genome_len = xs.shape\n",
    "    k = genome_len // 2\n",
    "\n",
    "    # Duplicate the base vector n_pop times – stays on CPU for now.\n",
    "    vecs = base_vec.repeat(n_pop, 1)\n",
    "\n",
    "    for row, genome in enumerate(xs):\n",
    "        for j in range(k):\n",
    "            idx = int(round(genome[2 * j]))  # ensure integer index\n",
    "            val = genome[2 * j + 1]\n",
    "            idx_clamped = max(0, min(idx, base_vec.numel() - 1))\n",
    "            vecs[row, idx_clamped] = val\n",
    "    return vecs\n",
    "\n",
    "\n",
    "def relative_l2_error(pred: torch.Tensor, target: torch.Tensor) -> torch.Tensor:\n",
    "    \"\"\"Compute ‖pred ‑ target‖₂ / ‖target‖₂ along dim=1.\"\"\"\n",
    "    diff_norm = torch.norm(pred - target, dim=1)\n",
    "    tgt_norm = torch.norm(target, dim=1).clamp_min(1e-12)\n",
    "    return diff_norm / tgt_norm\n",
    "\n",
    "\n",
    "# ──────────────────────────────────────────────────────────────────────────────\n",
    "# Attack core\n",
    "# ──────────────────────────────────────────────────────────────────────────────\n",
    "\n",
    "def de_objective(xs: np.ndarray, base_x: torch.Tensor, y_true: torch.Tensor, model: torch.nn.Module,\n",
    "                 device: torch.device, maximize: bool = True) -> np.ndarray:\n",
    "    \"\"\"Vectorised objective for DE.  Returns *negative* error (to minimise).\"\"\"\n",
    "    perturbed = perturb_vector(xs, base_x).to(device)\n",
    "    with torch.no_grad():\n",
    "        y_pred = model(perturbed)\n",
    "    err = relative_l2_error(y_pred, y_true.to(device)).cpu().numpy()  # shape (n_pop,)\n",
    "    return -err if maximize else err\n",
    "\n",
    "\n",
    "def attack_single(base_x: torch.Tensor, y_true: torch.Tensor, model: torch.nn.Module,\n",
    "                  features: int, error_thr: float, val_min: float, val_max: float,\n",
    "                  maxiter: int, popsize: int, device: torch.device, verbose: bool = False):\n",
    "    \"\"\"Run DE attack on a single (x, y) pair.  Returns (success, best_genome).\"\"\"\n",
    "    input_dim = base_x.numel()\n",
    "    bounds = []\n",
    "    for _ in range(features):\n",
    "        bounds.append((0, input_dim - 1))      # index\n",
    "        bounds.append((val_min, val_max))      # new value\n",
    "\n",
    "    # Pop‑multiplier like original code (total pop = popsize * n_params)\n",
    "    popmul = max(1, popsize)\n",
    "\n",
    "    predict_fn = lambda xs: de_objective(xs, base_x, y_true, model, device, True)\n",
    "\n",
    "    def callback_fn(genome, convergence):\n",
    "        # Early stop if success achieved\n",
    "        perturbed = perturb_vector(genome, base_x).to(device)\n",
    "        with torch.no_grad():\n",
    "            err = relative_l2_error(model(perturbed), y_true.to(device))[0].item()\n",
    "        if verbose:\n",
    "            print(f\"  Current best error = {err:.3f}\")\n",
    "        return err > error_thr\n",
    "\n",
    "    # Optional initial population: random indices + gaussian values\n",
    "    n_params = 2 * features\n",
    "    inits = np.zeros((popmul * n_params, n_params))\n",
    "    for row in inits:\n",
    "        for f in range(features):\n",
    "            row[2 * f] = np.random.randint(0, input_dim)\n",
    "            row[2 * f + 1] = np.random.uniform(val_min, val_max)\n",
    "\n",
    "    result = differential_evolution(\n",
    "        predict_fn,\n",
    "        bounds,\n",
    "        maxiter=maxiter,\n",
    "        popsize=popmul,\n",
    "        recombination=1.0,\n",
    "        atol=-1,\n",
    "        init=inits,\n",
    "        polish=False,\n",
    "        callback=callback_fn,\n",
    "        disp=False,\n",
    "    )\n",
    "\n",
    "    # Evaluate final error\n",
    "    final_vec = perturb_vector(result.x, base_x).to(device)\n",
    "    with torch.no_grad():\n",
    "        final_err = relative_l2_error(model(final_vec), y_true.to(device))[0].item()\n",
    "\n",
    "    success = final_err > error_thr\n",
    "    return success, result.x, final_err"
   ]
  }
 ],
 "metadata": {
  "kernelspec": {
   "display_name": "Python [conda env:.conda-wave_env]",
   "language": "python",
   "name": "conda-env-.conda-wave_env-py"
  },
  "language_info": {
   "codemirror_mode": {
    "name": "ipython",
    "version": 3
   },
   "file_extension": ".py",
   "mimetype": "text/x-python",
   "name": "python",
   "nbconvert_exporter": "python",
   "pygments_lexer": "ipython3",
   "version": "3.9.18"
  }
 },
 "nbformat": 4,
 "nbformat_minor": 5
}
