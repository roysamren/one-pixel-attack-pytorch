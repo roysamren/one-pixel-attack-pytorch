{
 "cells": [
  {
   "cell_type": "code",
   "execution_count": 1,
   "id": "095bd9c9",
   "metadata": {},
   "outputs": [],
   "source": [
    "import torch\n",
    "import torch.nn as nn\n",
    "import numpy as np\n",
    "import sys\n",
    "import os\n",
    "import random\n",
    "import matplotlib.pyplot as plt"
   ]
  },
  {
   "cell_type": "code",
   "execution_count": 2,
   "id": "0e0ce6b1",
   "metadata": {},
   "outputs": [
    {
     "name": "stdout",
     "output_type": "stream",
     "text": [
      "Using device: cuda\n"
     ]
    }
   ],
   "source": [
    "# check if GPU is available and set the device\n",
    "device = torch.device('cuda' if torch.cuda.is_available() else 'cpu')\n",
    "print('Using device:', device)"
   ]
  },
  {
   "cell_type": "markdown",
   "id": "6bc5cd0e",
   "metadata": {},
   "source": [
    "### Model + Helper Functions"
   ]
  },
  {
   "cell_type": "code",
   "execution_count": 3,
   "id": "bbb894a3",
   "metadata": {},
   "outputs": [],
   "source": [
    "# Please put the src directory in the path\n",
    "src_path = os.path.abspath(os.path.join(os.getcwd(), 'src'))\n",
    "if src_path not in sys.path:\n",
    "    sys.path.append(src_path)\n",
    "\n",
    "from utils import MIMONetDataset, ChannelScaler\n",
    "from mimonet import MIMONet"
   ]
  },
  {
   "cell_type": "code",
   "execution_count": 4,
   "id": "5fd4ca0d",
   "metadata": {},
   "outputs": [],
   "source": [
    "# set working directory\n",
    "working_dir = \"/projects/bcnx/kazumak2/MIMONet/HeatExchanger\"\n",
    "data_dir = os.path.join(working_dir, \"data\")"
   ]
  },
  {
   "cell_type": "markdown",
   "id": "2c88060c",
   "metadata": {},
   "source": [
    "### Load datasets"
   ]
  },
  {
   "cell_type": "code",
   "execution_count": 5,
   "id": "70a663fc",
   "metadata": {},
   "outputs": [],
   "source": [
    "# trunk dataset\n",
    "trunk_input = np.load(os.path.join(data_dir, \"share/trunk.npz\"))['trunk']\n",
    "\n",
    "# min-max scaling [-1, 1]\n",
    "trunk_input[:, 0] = 2 * (trunk_input[:, 0] - np.min(trunk_input[:, 0])) / (np.max(trunk_input[:, 0]) - np.min(trunk_input[:, 0])) - 1\n",
    "trunk_input[:, 1] = 2 * (trunk_input[:, 1] - np.min(trunk_input[:, 1])) / (np.max(trunk_input[:, 1]) - np.min(trunk_input[:, 1])) - 1"
   ]
  },
  {
   "cell_type": "code",
   "execution_count": 6,
   "id": "9f697cc9",
   "metadata": {},
   "outputs": [
    {
     "name": "stdout",
     "output_type": "stream",
     "text": [
      "Branch1 shape: (1546, 2)\n",
      "Branch2 shape: (1546, 100)\n"
     ]
    }
   ],
   "source": [
    "# branch input dataset\n",
    "branch = np.load(os.path.join(data_dir, \"branch.npz\"))\n",
    "\n",
    "branch1 = branch['branch1']\n",
    "branch2 = branch['branch2']\n",
    "\n",
    "print(\"Branch1 shape:\", branch1.shape)\n",
    "print(\"Branch2 shape:\", branch2.shape)\n",
    "\n",
    "# split the dataset into training and testing sets\n",
    "train_size = int(0.8 * len(branch1))\n",
    "test_size = len(branch1) - train_size\n",
    "train_branch1, test_branch1 = branch1[:train_size], branch1[train_size:]\n",
    "train_branch2, test_branch2 = branch2[:train_size], branch2[train_size:]"
   ]
  },
  {
   "cell_type": "code",
   "execution_count": 7,
   "id": "572ff092",
   "metadata": {},
   "outputs": [
    {
     "name": "stdout",
     "output_type": "stream",
     "text": [
      "Selected output channels:\n",
      "pressure\n",
      "z-velocity\n",
      "y-velocity\n",
      "x-velocity\n",
      "velocity-magnitude\n"
     ]
    }
   ],
   "source": [
    "# create a dictionary for the output channel names\n",
    "# 0: turb-kinetic-energy\n",
    "# 1: pressure\n",
    "# 2: temperature\n",
    "# 3: z-velocity\n",
    "# 4: y-velocity\n",
    "# 5: x-velocity\n",
    "# 6: velocity-magnitude\n",
    "\n",
    "dict_channel = {\n",
    "    0: 'turb-kinetic-energy',\n",
    "    1: 'pressure',\n",
    "    2: 'temperature',\n",
    "    3: 'z-velocity',\n",
    "    4: 'y-velocity',\n",
    "    5: 'x-velocity',\n",
    "    6: 'velocity-magnitude'\n",
    "}\n",
    "\n",
    "# select the output channel\n",
    "target_channel = [1, 3, 4, 5, 6]\n",
    "\n",
    "# print the selected output channel names\n",
    "# target_label is used to store the names of the selected output channels for further processing (e.g., plotting)\n",
    "print(\"Selected output channels:\")\n",
    "target_label = []\n",
    "for channel in target_channel:\n",
    "    print(dict_channel[channel])\n",
    "    target_label.append(dict_channel[channel])    "
   ]
  },
  {
   "cell_type": "code",
   "execution_count": 8,
   "id": "968677df",
   "metadata": {},
   "outputs": [
    {
     "name": "stdout",
     "output_type": "stream",
     "text": [
      "Target dataset shape before split: (1546, 3977, 5)\n",
      "Train target shape: (1236, 3977, 5)\n",
      "Test target shape: (310, 3977, 5)\n"
     ]
    }
   ],
   "source": [
    "# target dataset\n",
    "target = np.load(os.path.join(data_dir, \"target.npy\"))\n",
    "\n",
    "# extract the output channels\n",
    "target = target[:, :, target_channel ]  # select the first 7 channels\n",
    "print(\"Target dataset shape before split:\", target.shape)\n",
    "\n",
    "\n",
    "# split the target dataset into training and testing sets\n",
    "train_target = target[:train_size]\n",
    "test_target = target[train_size:]\n",
    "\n",
    "print(\"Train target shape:\", train_target.shape)\n",
    "print(\"Test target shape:\", test_target.shape)"
   ]
  },
  {
   "cell_type": "code",
   "execution_count": 9,
   "id": "4a13dd2a",
   "metadata": {},
   "outputs": [
    {
     "name": "stdout",
     "output_type": "stream",
     "text": [
      "Mean of branch1: [  4.51454429 292.42944177]\n",
      "Std of branch1: [ 0.2615285  17.03323994]\n",
      "Mean of branch2: 12587.66968713018\n",
      "Std of branch2: 6302.709013835411\n"
     ]
    }
   ],
   "source": [
    "# get the mean and standard deviation of each channel\n",
    "mean_branch1 = np.mean(train_branch1, axis=0)\n",
    "std_branch1 = np.std(train_branch1, axis=0)\n",
    "\n",
    "print(\"Mean of branch1:\", mean_branch1)\n",
    "print(\"Std of branch1:\", std_branch1)\n",
    "\n",
    "# (# train samples, 100)\n",
    "mean_branch2 = np.mean(train_branch2)\n",
    "std_branch2 = np.std(train_branch2)\n",
    "\n",
    "print(\"Mean of branch2:\", mean_branch2)\n",
    "print(\"Std of branch2:\", std_branch2)"
   ]
  },
  {
   "cell_type": "code",
   "execution_count": 10,
   "id": "4f8b0243",
   "metadata": {},
   "outputs": [
    {
     "name": "stdout",
     "output_type": "stream",
     "text": [
      "Shape of normalized train_branch1: (1236, 2)\n",
      "Shape of normalized test_branch1: (310, 2)\n",
      "Shape of normalized train_branch2: (1236, 100)\n",
      "Shape of normalized test_branch2: (310, 100)\n"
     ]
    }
   ],
   "source": [
    "# normalize the branch data using the mean and std\n",
    "train_branch_1 = (train_branch1 - mean_branch1) / std_branch1\n",
    "test_branch_1 = (test_branch1 - mean_branch1) / std_branch1\n",
    "train_branch_2 = (train_branch2 - mean_branch2) / std_branch2\n",
    "test_branch_2 = (test_branch2 - mean_branch2) / std_branch2\n",
    "\n",
    "# print the shapes of the normalized data\n",
    "print(\"Shape of normalized train_branch1:\", train_branch_1.shape)\n",
    "print(\"Shape of normalized test_branch1:\", test_branch_1.shape)\n",
    "print(\"Shape of normalized train_branch2:\", train_branch_2.shape)\n",
    "print(\"Shape of normalized test_branch2:\", test_branch_2.shape)"
   ]
  },
  {
   "cell_type": "markdown",
   "id": "c339c659",
   "metadata": {},
   "source": [
    "### Scaling the target data"
   ]
  },
  {
   "cell_type": "code",
   "execution_count": 11,
   "id": "2008bca5",
   "metadata": {},
   "outputs": [
    {
     "name": "stdout",
     "output_type": "stream",
     "text": [
      "Shape of scaled train_target: (1236, 3977, 5)\n",
      "Shape of scaled test_target: (310, 3977, 5)\n"
     ]
    }
   ],
   "source": [
    "# scaling the target data\n",
    "'''  \n",
    "note: reverse the scaling for the target data\n",
    "train_target = scaler.inverse_transform(train_target_scaled)\n",
    "test_target = scaler.inverse_transform(test_target_scaled)\n",
    "'''\n",
    "scaler = ChannelScaler(method='minmax', feature_range=(-1, 1))\n",
    "scaler.fit(train_target)\n",
    "train_target_scaled = scaler.transform(train_target)\n",
    "test_target_scaled = scaler.transform(test_target)\n",
    "\n",
    "print(\"Shape of scaled train_target:\", train_target_scaled.shape)\n",
    "print(\"Shape of scaled test_target:\", test_target_scaled.shape)"
   ]
  },
  {
   "cell_type": "code",
   "execution_count": 12,
   "id": "8fd2bcf4",
   "metadata": {},
   "outputs": [],
   "source": [
    "# test dataset and dataloader\n",
    "test_dataset = MIMONetDataset(\n",
    "    [test_branch_1, test_branch_2],  # branch_data_list\n",
    "    trunk_input,                     # trunk_data\n",
    "    test_target_scaled               # target_data\n",
    ")\n",
    "\n",
    "test_loader = torch.utils.data.DataLoader(\n",
    "    test_dataset,\n",
    "    batch_size=1,  # set to 1 for testing\n",
    "    shuffle=False,\n",
    "    num_workers=0\n",
    ")"
   ]
  },
  {
   "cell_type": "markdown",
   "id": "6e1e443f",
   "metadata": {},
   "source": [
    "## Model Instance & Load Parameters"
   ]
  },
  {
   "cell_type": "code",
   "execution_count": 13,
   "id": "1460982d",
   "metadata": {},
   "outputs": [],
   "source": [
    "# Architecture parameters\n",
    "dim = 256\n",
    "branch_input_dim1 = 2\n",
    "branch_input_dim2 = 100\n",
    "trunk_input_dim = 2\n",
    "\n",
    "# Define the model arguments for orig_MIMONet\n",
    "model_args = {\n",
    "    'branch_arch_list': [\n",
    "        [branch_input_dim1, 512, 512, 512, dim],\n",
    "        [branch_input_dim2, 512, 512, 512, dim]\n",
    "    ],\n",
    "    'trunk_arch': [trunk_input_dim, 256, 256, 256, dim],\n",
    "    'num_outputs': target.shape[-1] -1,  # number of output channels\n",
    "    'activation_fn': nn.ReLU,\n",
    "    'merge_type': 'mul',\n",
    "}"
   ]
  },
  {
   "cell_type": "markdown",
   "id": "448bdfa2",
   "metadata": {},
   "source": [
    "### Load"
   ]
  },
  {
   "cell_type": "code",
   "execution_count": 14,
   "id": "5c73b408",
   "metadata": {},
   "outputs": [
    {
     "name": "stdout",
     "output_type": "stream",
     "text": [
      "Model loaded successfully from /projects/bcnx/kazumak2/MIMONet/HeatExchanger/checkpoints/custom_best_model_lambda_1E-4.pt\n",
      "Number of trainable parameters in the model: 1762052\n"
     ]
    }
   ],
   "source": [
    "model = MIMONet(**model_args).to(device)\n",
    "# Load the trained model\n",
    "model_path = os.path.join(working_dir, \"checkpoints/custom_best_model_lambda_1E-4.pt\")\n",
    "\n",
    "if os.path.exists(model_path):\n",
    "    model.load_state_dict(torch.load(model_path, map_location=device))\n",
    "    print(\"Model loaded successfully from\", model_path)\n",
    "else:\n",
    "    print(\"Model file not found at\", model_path)\n",
    "    sys.exit(1)\n",
    "    \n",
    "# Evaluate the model on the test set\n",
    "model.eval()\n",
    "\n",
    "# print the number of parameters in the model\n",
    "num_params = sum(p.numel() for p in model.parameters() if p.requires_grad)\n",
    "print(f\"Number of trainable parameters in the model: {num_params}\")"
   ]
  },
  {
   "cell_type": "markdown",
   "id": "088ef0dc",
   "metadata": {},
   "source": [
    "## How to predict?"
   ]
  },
  {
   "cell_type": "code",
   "execution_count": 15,
   "id": "fba8200d",
   "metadata": {},
   "outputs": [],
   "source": [
    "# feed the test loader to the model (and save predictions and targets)\n",
    "predictions = []\n",
    "targets = []\n",
    "with torch.no_grad():\n",
    "    for batch in test_loader:\n",
    "        branch_data, trunk_data, target_data = batch\n",
    "        branch_data = [b.to(device) for b in branch_data]\n",
    "        trunk_data = trunk_data.to(device)\n",
    "        target_data = target_data.to(device)\n",
    "\n",
    "        output = model(branch_data, trunk_data)\n",
    "        predictions.append(output.cpu().numpy())\n",
    "        targets.append(target_data.cpu().numpy())\n",
    "        \n",
    "# Convert predictions and targets to numpy arrays\n",
    "predictions = np.concatenate(predictions, axis=0)\n",
    "targets = np.concatenate(targets, axis=0)\n",
    "\n",
    "# Reverse the scaling for the target data\n",
    "predictions = scaler.inverse_transform(predictions)\n",
    "targets = scaler.inverse_transform(targets)"
   ]
  },
  {
   "cell_type": "markdown",
   "id": "2ecf6df2",
   "metadata": {},
   "source": [
    "(Evaluate)"
   ]
  },
  {
   "cell_type": "code",
   "execution_count": 16,
   "id": "a2ffb990",
   "metadata": {},
   "outputs": [
    {
     "name": "stdout",
     "output_type": "stream",
     "text": [
      "L2 norm of predictions shape: (310, 4)\n",
      "L2 norm of targets shape: (310, 4)\n",
      "Mean relative L2 error per channel: [0.79963773 1.4521601  1.015162   0.5177918 ] %\n",
      "Standard deviation of relative L2 error per channel: [0.00014584 0.0002911  0.0002742  0.00038389]\n"
     ]
    }
   ],
   "source": [
    "# Compute L2 norm over grid points for each sample and channel\n",
    "l2_pred = np.linalg.norm(predictions, axis=1)  # shape: (samples, channels)\n",
    "l2_gt = np.linalg.norm(targets[..., :4], axis=1)  # shape: (samples, channels)\n",
    "\n",
    "print(\"L2 norm of predictions shape:\", l2_pred.shape)\n",
    "print(\"L2 norm of targets shape:\", l2_gt.shape)\n",
    "\n",
    "\n",
    "# Compute L2 error over grid points for each sample and channel\n",
    "l2_err = np.linalg.norm(predictions - targets[..., :4], axis=1)  # shape: (samples, channels)\n",
    "\n",
    "# Compute relative error (avoid division by zero)\n",
    "rel_err = l2_err / (l2_gt + 1e-8)  # shape: (samples, channels)\n",
    "\n",
    "# Mean over samples for each channel\n",
    "mean_rel_err_per_channel = np.mean(rel_err, axis=0)  # shape: (channels,)\n",
    "\n",
    "print(\"Mean relative L2 error per channel:\", mean_rel_err_per_channel * 100, \"%\")\n",
    "\n",
    "# standard deviation of relative error per channel\n",
    "std_rel_err_per_channel = np.std(rel_err, axis=0)  # shape: (channels,)\n",
    "\n",
    "print(\"Standard deviation of relative L2 error per channel:\", std_rel_err_per_channel)"
   ]
  }
 ],
 "metadata": {
  "kernelspec": {
   "display_name": "Python [conda env:.conda-pytorch-env]",
   "language": "python",
   "name": "conda-env-.conda-pytorch-env-py"
  },
  "language_info": {
   "codemirror_mode": {
    "name": "ipython",
    "version": 3
   },
   "file_extension": ".py",
   "mimetype": "text/x-python",
   "name": "python",
   "nbconvert_exporter": "python",
   "pygments_lexer": "ipython3",
   "version": "3.9.18"
  }
 },
 "nbformat": 4,
 "nbformat_minor": 5
}
